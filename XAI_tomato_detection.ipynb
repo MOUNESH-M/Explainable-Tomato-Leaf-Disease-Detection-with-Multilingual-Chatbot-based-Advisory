{
  "nbformat": 4,
  "nbformat_minor": 0,
  "metadata": {
    "colab": {
      "provenance": [],
      "gpuType": "T4",
      "authorship_tag": "ABX9TyPD/2bnWpuMdvwR8HO5WqJ6",
      "include_colab_link": true
    },
    "kernelspec": {
      "name": "python3",
      "display_name": "Python 3"
    },
    "language_info": {
      "name": "python"
    },
    "accelerator": "GPU"
  },
  "cells": [
    {
      "cell_type": "markdown",
      "metadata": {
        "id": "view-in-github",
        "colab_type": "text"
      },
      "source": [
        "<a href=\"https://colab.research.google.com/github/MOUNESH-M/Explainable-Tomato-Leaf-Disease-Detection-with-Multilingual-Chatbot-based-Advisory/blob/main/XAI_tomato_detection.ipynb\" target=\"_parent\"><img src=\"https://colab.research.google.com/assets/colab-badge.svg\" alt=\"Open In Colab\"/></a>"
      ]
    },
    {
      "cell_type": "code",
      "source": [
        "from google.colab import files\n",
        "files.upload()"
      ],
      "metadata": {
        "colab": {
          "base_uri": "https://localhost:8080/",
          "height": 91
        },
        "id": "7D2qFuJ15Hmz",
        "outputId": "52628db9-ab8f-4451-f1f3-1951ea0a56e9"
      },
      "execution_count": 2,
      "outputs": [
        {
          "output_type": "display_data",
          "data": {
            "text/plain": [
              "<IPython.core.display.HTML object>"
            ],
            "text/html": [
              "\n",
              "     <input type=\"file\" id=\"files-169d07c0-e408-46d0-9562-2ffd1a021cc0\" name=\"files[]\" multiple disabled\n",
              "        style=\"border:none\" />\n",
              "     <output id=\"result-169d07c0-e408-46d0-9562-2ffd1a021cc0\">\n",
              "      Upload widget is only available when the cell has been executed in the\n",
              "      current browser session. Please rerun this cell to enable.\n",
              "      </output>\n",
              "      <script>// Copyright 2017 Google LLC\n",
              "//\n",
              "// Licensed under the Apache License, Version 2.0 (the \"License\");\n",
              "// you may not use this file except in compliance with the License.\n",
              "// You may obtain a copy of the License at\n",
              "//\n",
              "//      http://www.apache.org/licenses/LICENSE-2.0\n",
              "//\n",
              "// Unless required by applicable law or agreed to in writing, software\n",
              "// distributed under the License is distributed on an \"AS IS\" BASIS,\n",
              "// WITHOUT WARRANTIES OR CONDITIONS OF ANY KIND, either express or implied.\n",
              "// See the License for the specific language governing permissions and\n",
              "// limitations under the License.\n",
              "\n",
              "/**\n",
              " * @fileoverview Helpers for google.colab Python module.\n",
              " */\n",
              "(function(scope) {\n",
              "function span(text, styleAttributes = {}) {\n",
              "  const element = document.createElement('span');\n",
              "  element.textContent = text;\n",
              "  for (const key of Object.keys(styleAttributes)) {\n",
              "    element.style[key] = styleAttributes[key];\n",
              "  }\n",
              "  return element;\n",
              "}\n",
              "\n",
              "// Max number of bytes which will be uploaded at a time.\n",
              "const MAX_PAYLOAD_SIZE = 100 * 1024;\n",
              "\n",
              "function _uploadFiles(inputId, outputId) {\n",
              "  const steps = uploadFilesStep(inputId, outputId);\n",
              "  const outputElement = document.getElementById(outputId);\n",
              "  // Cache steps on the outputElement to make it available for the next call\n",
              "  // to uploadFilesContinue from Python.\n",
              "  outputElement.steps = steps;\n",
              "\n",
              "  return _uploadFilesContinue(outputId);\n",
              "}\n",
              "\n",
              "// This is roughly an async generator (not supported in the browser yet),\n",
              "// where there are multiple asynchronous steps and the Python side is going\n",
              "// to poll for completion of each step.\n",
              "// This uses a Promise to block the python side on completion of each step,\n",
              "// then passes the result of the previous step as the input to the next step.\n",
              "function _uploadFilesContinue(outputId) {\n",
              "  const outputElement = document.getElementById(outputId);\n",
              "  const steps = outputElement.steps;\n",
              "\n",
              "  const next = steps.next(outputElement.lastPromiseValue);\n",
              "  return Promise.resolve(next.value.promise).then((value) => {\n",
              "    // Cache the last promise value to make it available to the next\n",
              "    // step of the generator.\n",
              "    outputElement.lastPromiseValue = value;\n",
              "    return next.value.response;\n",
              "  });\n",
              "}\n",
              "\n",
              "/**\n",
              " * Generator function which is called between each async step of the upload\n",
              " * process.\n",
              " * @param {string} inputId Element ID of the input file picker element.\n",
              " * @param {string} outputId Element ID of the output display.\n",
              " * @return {!Iterable<!Object>} Iterable of next steps.\n",
              " */\n",
              "function* uploadFilesStep(inputId, outputId) {\n",
              "  const inputElement = document.getElementById(inputId);\n",
              "  inputElement.disabled = false;\n",
              "\n",
              "  const outputElement = document.getElementById(outputId);\n",
              "  outputElement.innerHTML = '';\n",
              "\n",
              "  const pickedPromise = new Promise((resolve) => {\n",
              "    inputElement.addEventListener('change', (e) => {\n",
              "      resolve(e.target.files);\n",
              "    });\n",
              "  });\n",
              "\n",
              "  const cancel = document.createElement('button');\n",
              "  inputElement.parentElement.appendChild(cancel);\n",
              "  cancel.textContent = 'Cancel upload';\n",
              "  const cancelPromise = new Promise((resolve) => {\n",
              "    cancel.onclick = () => {\n",
              "      resolve(null);\n",
              "    };\n",
              "  });\n",
              "\n",
              "  // Wait for the user to pick the files.\n",
              "  const files = yield {\n",
              "    promise: Promise.race([pickedPromise, cancelPromise]),\n",
              "    response: {\n",
              "      action: 'starting',\n",
              "    }\n",
              "  };\n",
              "\n",
              "  cancel.remove();\n",
              "\n",
              "  // Disable the input element since further picks are not allowed.\n",
              "  inputElement.disabled = true;\n",
              "\n",
              "  if (!files) {\n",
              "    return {\n",
              "      response: {\n",
              "        action: 'complete',\n",
              "      }\n",
              "    };\n",
              "  }\n",
              "\n",
              "  for (const file of files) {\n",
              "    const li = document.createElement('li');\n",
              "    li.append(span(file.name, {fontWeight: 'bold'}));\n",
              "    li.append(span(\n",
              "        `(${file.type || 'n/a'}) - ${file.size} bytes, ` +\n",
              "        `last modified: ${\n",
              "            file.lastModifiedDate ? file.lastModifiedDate.toLocaleDateString() :\n",
              "                                    'n/a'} - `));\n",
              "    const percent = span('0% done');\n",
              "    li.appendChild(percent);\n",
              "\n",
              "    outputElement.appendChild(li);\n",
              "\n",
              "    const fileDataPromise = new Promise((resolve) => {\n",
              "      const reader = new FileReader();\n",
              "      reader.onload = (e) => {\n",
              "        resolve(e.target.result);\n",
              "      };\n",
              "      reader.readAsArrayBuffer(file);\n",
              "    });\n",
              "    // Wait for the data to be ready.\n",
              "    let fileData = yield {\n",
              "      promise: fileDataPromise,\n",
              "      response: {\n",
              "        action: 'continue',\n",
              "      }\n",
              "    };\n",
              "\n",
              "    // Use a chunked sending to avoid message size limits. See b/62115660.\n",
              "    let position = 0;\n",
              "    do {\n",
              "      const length = Math.min(fileData.byteLength - position, MAX_PAYLOAD_SIZE);\n",
              "      const chunk = new Uint8Array(fileData, position, length);\n",
              "      position += length;\n",
              "\n",
              "      const base64 = btoa(String.fromCharCode.apply(null, chunk));\n",
              "      yield {\n",
              "        response: {\n",
              "          action: 'append',\n",
              "          file: file.name,\n",
              "          data: base64,\n",
              "        },\n",
              "      };\n",
              "\n",
              "      let percentDone = fileData.byteLength === 0 ?\n",
              "          100 :\n",
              "          Math.round((position / fileData.byteLength) * 100);\n",
              "      percent.textContent = `${percentDone}% done`;\n",
              "\n",
              "    } while (position < fileData.byteLength);\n",
              "  }\n",
              "\n",
              "  // All done.\n",
              "  yield {\n",
              "    response: {\n",
              "      action: 'complete',\n",
              "    }\n",
              "  };\n",
              "}\n",
              "\n",
              "scope.google = scope.google || {};\n",
              "scope.google.colab = scope.google.colab || {};\n",
              "scope.google.colab._files = {\n",
              "  _uploadFiles,\n",
              "  _uploadFilesContinue,\n",
              "};\n",
              "})(self);\n",
              "</script> "
            ]
          },
          "metadata": {}
        },
        {
          "output_type": "stream",
          "name": "stdout",
          "text": [
            "Saving kaggle.json to kaggle.json\n"
          ]
        },
        {
          "output_type": "execute_result",
          "data": {
            "text/plain": [
              "{'kaggle.json': b'{\"username\":\"mouneshm\",\"key\":\"b3be17fc2d43d4844ae0579c90910e14\"}'}"
            ]
          },
          "metadata": {},
          "execution_count": 2
        }
      ]
    },
    {
      "cell_type": "code",
      "source": [
        "!mkdir -p ~/.kaggle\n",
        "!cp kaggle.json ~/.kaggle/\n",
        "!chmod 600 ~/.kaggle/kaggle.json"
      ],
      "metadata": {
        "id": "s72Q0rLH5egg"
      },
      "execution_count": 3,
      "outputs": []
    },
    {
      "cell_type": "code",
      "source": [
        "!kaggle datasets download -d charuchaudhry/plantvillage-tomato-leaf-dataset\n",
        "!unzip -q plantvillage-tomato-leaf-dataset.zip -d /content/tomato_data"
      ],
      "metadata": {
        "colab": {
          "base_uri": "https://localhost:8080/"
        },
        "id": "MMa6a9HY5uDJ",
        "outputId": "51e6d7a0-c466-4d1e-ecd6-1328db3b2174"
      },
      "execution_count": 4,
      "outputs": [
        {
          "output_type": "stream",
          "name": "stdout",
          "text": [
            "Dataset URL: https://www.kaggle.com/datasets/charuchaudhry/plantvillage-tomato-leaf-dataset\n",
            "License(s): unknown\n",
            "Downloading plantvillage-tomato-leaf-dataset.zip to /content\n",
            " 95% 420M/443M [00:00<00:00, 412MB/s]\n",
            "100% 443M/443M [00:00<00:00, 479MB/s]\n"
          ]
        }
      ]
    },
    {
      "cell_type": "code",
      "source": [
        "!ls /content/tomato_data\n",
        "!find /content/tomato_data -maxdepth 2 -type d"
      ],
      "metadata": {
        "colab": {
          "base_uri": "https://localhost:8080/"
        },
        "id": "yOAk-OeT59j4",
        "outputId": "ab788073-aa44-4d9f-c285-7006eb00bc48"
      },
      "execution_count": 5,
      "outputs": [
        {
          "output_type": "stream",
          "name": "stdout",
          "text": [
            "plantvillage\n",
            "/content/tomato_data\n",
            "/content/tomato_data/plantvillage\n",
            "/content/tomato_data/plantvillage/Tomato___Target_Spot\n",
            "/content/tomato_data/plantvillage/plantvillage\n",
            "/content/tomato_data/plantvillage/Tomato___Early_blight\n",
            "/content/tomato_data/plantvillage/Tomato___Late_blight\n",
            "/content/tomato_data/plantvillage/Tomato___Spider_mites Two-spotted_spider_mite\n",
            "/content/tomato_data/plantvillage/Tomato___Tomato_Yellow_Leaf_Curl_Virus\n",
            "/content/tomato_data/plantvillage/Tomato___Septoria_leaf_spot\n",
            "/content/tomato_data/plantvillage/Tomato___Bacterial_spot\n",
            "/content/tomato_data/plantvillage/Tomato___healthy\n",
            "/content/tomato_data/plantvillage/Tomato___Leaf_Mold\n",
            "/content/tomato_data/plantvillage/Tomato___Tomato_mosaic_virus\n"
          ]
        }
      ]
    },
    {
      "cell_type": "code",
      "source": [
        "data_dir = \"/content/tomato_data/plantvillage\""
      ],
      "metadata": {
        "id": "NsF-I3OW6JzI"
      },
      "execution_count": 6,
      "outputs": []
    },
    {
      "cell_type": "code",
      "source": [
        "import shutil, os\n",
        "\n",
        "root_path = \"/content/tomato_data/plantvillage/plantvillage\"\n",
        "target_path = \"/content/tomato_data/plantvillage\"\n",
        "\n",
        "# Move everything from nested folder up\n",
        "for item in os.listdir(root_path):\n",
        "    s = os.path.join(root_path, item)\n",
        "    d = os.path.join(target_path, item)\n",
        "    if os.path.exists(d):\n",
        "        print(f\"Skipping {d}, already exists\")\n",
        "    else:\n",
        "        shutil.move(s, d)\n",
        "\n",
        "print(\"Moved nested files up\")\n"
      ],
      "metadata": {
        "colab": {
          "base_uri": "https://localhost:8080/"
        },
        "id": "ao91y3Oc6Ld3",
        "outputId": "0e3439be-3205-424d-cba5-99a7133582e1"
      },
      "execution_count": 7,
      "outputs": [
        {
          "output_type": "stream",
          "name": "stdout",
          "text": [
            "Skipping /content/tomato_data/plantvillage/Tomato___Target_Spot, already exists\n",
            "Skipping /content/tomato_data/plantvillage/Tomato___Early_blight, already exists\n",
            "Skipping /content/tomato_data/plantvillage/Tomato___Late_blight, already exists\n",
            "Skipping /content/tomato_data/plantvillage/Tomato___Spider_mites Two-spotted_spider_mite, already exists\n",
            "Skipping /content/tomato_data/plantvillage/Tomato___Tomato_Yellow_Leaf_Curl_Virus, already exists\n",
            "Skipping /content/tomato_data/plantvillage/Tomato___Septoria_leaf_spot, already exists\n",
            "Skipping /content/tomato_data/plantvillage/Tomato___Bacterial_spot, already exists\n",
            "Skipping /content/tomato_data/plantvillage/Tomato___healthy, already exists\n",
            "Skipping /content/tomato_data/plantvillage/Tomato___Leaf_Mold, already exists\n",
            "Skipping /content/tomato_data/plantvillage/Tomato___Tomato_mosaic_virus, already exists\n",
            "Moved nested files up\n"
          ]
        }
      ]
    },
    {
      "cell_type": "code",
      "source": [
        "import shutil\n",
        "shutil.rmtree(\"/content/tomato_data/plantvillage/plantvillage\", ignore_errors=True)\n",
        "print(\"Removed extra nested plantvillage folder\")\n"
      ],
      "metadata": {
        "colab": {
          "base_uri": "https://localhost:8080/"
        },
        "id": "vX-jzZq66iWg",
        "outputId": "8497f335-cbe3-4a03-9749-6e801036866e"
      },
      "execution_count": 8,
      "outputs": [
        {
          "output_type": "stream",
          "name": "stdout",
          "text": [
            "Removed extra nested plantvillage folder\n"
          ]
        }
      ]
    },
    {
      "cell_type": "code",
      "source": [
        "!find /content/tomato_data/plantvillage -maxdepth 1 -type d\n"
      ],
      "metadata": {
        "colab": {
          "base_uri": "https://localhost:8080/"
        },
        "id": "U4Z-H3Uk6mOw",
        "outputId": "41cf1dd9-7da9-4b62-9dbd-a0ebdc020b06"
      },
      "execution_count": 9,
      "outputs": [
        {
          "output_type": "stream",
          "name": "stdout",
          "text": [
            "/content/tomato_data/plantvillage\n",
            "/content/tomato_data/plantvillage/Tomato___Target_Spot\n",
            "/content/tomato_data/plantvillage/Tomato___Early_blight\n",
            "/content/tomato_data/plantvillage/Tomato___Late_blight\n",
            "/content/tomato_data/plantvillage/Tomato___Spider_mites Two-spotted_spider_mite\n",
            "/content/tomato_data/plantvillage/Tomato___Tomato_Yellow_Leaf_Curl_Virus\n",
            "/content/tomato_data/plantvillage/Tomato___Septoria_leaf_spot\n",
            "/content/tomato_data/plantvillage/Tomato___Bacterial_spot\n",
            "/content/tomato_data/plantvillage/Tomato___healthy\n",
            "/content/tomato_data/plantvillage/Tomato___Leaf_Mold\n",
            "/content/tomato_data/plantvillage/Tomato___Tomato_mosaic_virus\n"
          ]
        }
      ]
    },
    {
      "cell_type": "code",
      "source": [
        "import os\n",
        "import shutil\n",
        "import random\n",
        "\n",
        "# Paths\n",
        "base_dir = \"/content/tomato_data\"\n",
        "dataset_dir = os.path.join(base_dir, \"plantvillage\")\n",
        "split_dir = os.path.join(base_dir, \"tomato_split\")\n",
        "\n",
        "# Create new split folders\n",
        "for split in [\"train\", \"val\", \"test\"]:\n",
        "    split_path = os.path.join(split_dir, split)\n",
        "    os.makedirs(split_path, exist_ok=True)\n",
        "\n",
        "# Split each class\n",
        "for cls in os.listdir(dataset_dir):\n",
        "    cls_path = os.path.join(dataset_dir, cls)\n",
        "    if not os.path.isdir(cls_path):\n",
        "        continue\n",
        "\n",
        "    images = os.listdir(cls_path)\n",
        "    random.shuffle(images)\n",
        "\n",
        "    train_split = int(0.7 * len(images))\n",
        "    val_split = int(0.85 * len(images))\n",
        "\n",
        "    splits = {\n",
        "        \"train\": images[:train_split],\n",
        "        \"val\": images[train_split:val_split],\n",
        "        \"test\": images[val_split:]\n",
        "    }\n",
        "\n",
        "    for split, files in splits.items():\n",
        "        split_cls_path = os.path.join(split_dir, split, cls)\n",
        "        os.makedirs(split_cls_path, exist_ok=True)\n",
        "        for f in files:\n",
        "            shutil.copy(os.path.join(cls_path, f), os.path.join(split_cls_path, f))\n",
        "\n",
        "print(\"Dataset successfully split into Train/Val/Test\")\n"
      ],
      "metadata": {
        "colab": {
          "base_uri": "https://localhost:8080/"
        },
        "id": "WeIpI9IZ6szA",
        "outputId": "589fcfc1-7868-43d5-9ea5-2275d6e095e2"
      },
      "execution_count": 10,
      "outputs": [
        {
          "output_type": "stream",
          "name": "stdout",
          "text": [
            "Dataset successfully split into Train/Val/Test\n"
          ]
        }
      ]
    },
    {
      "cell_type": "code",
      "source": [
        "!find /content/tomato_data/tomato_split -maxdepth 2 -type d -exec sh -c 'echo \"{}: $(ls -1 {} | wc -l)\"' \\;\n"
      ],
      "metadata": {
        "colab": {
          "base_uri": "https://localhost:8080/"
        },
        "id": "e9rHt7Qj6ujh",
        "outputId": "6f020bf8-78d8-45ee-9acf-144c3c1f7689"
      },
      "execution_count": 11,
      "outputs": [
        {
          "output_type": "stream",
          "name": "stdout",
          "text": [
            "/content/tomato_data/tomato_split: 3\n",
            "/content/tomato_data/tomato_split/test: 10\n",
            "/content/tomato_data/tomato_split/test/Tomato___Target_Spot: 169\n",
            "/content/tomato_data/tomato_split/test/Tomato___Early_blight: 120\n",
            "/content/tomato_data/tomato_split/test/Tomato___Late_blight: 230\n",
            "ls: cannot access '/content/tomato_data/tomato_split/test/Tomato___Spider_mites': No such file or directory\n",
            "ls: cannot access 'Two-spotted_spider_mite': No such file or directory\n",
            "/content/tomato_data/tomato_split/test/Tomato___Spider_mites Two-spotted_spider_mite: 0\n",
            "/content/tomato_data/tomato_split/test/Tomato___Tomato_Yellow_Leaf_Curl_Virus: 643\n",
            "/content/tomato_data/tomato_split/test/Tomato___Septoria_leaf_spot: 213\n",
            "/content/tomato_data/tomato_split/test/Tomato___Bacterial_spot: 256\n",
            "/content/tomato_data/tomato_split/test/Tomato___healthy: 191\n",
            "/content/tomato_data/tomato_split/test/Tomato___Leaf_Mold: 115\n",
            "/content/tomato_data/tomato_split/test/Tomato___Tomato_mosaic_virus: 45\n",
            "/content/tomato_data/tomato_split/val: 10\n",
            "/content/tomato_data/tomato_split/val/Tomato___Target_Spot: 168\n",
            "/content/tomato_data/tomato_split/val/Tomato___Early_blight: 120\n",
            "/content/tomato_data/tomato_split/val/Tomato___Late_blight: 229\n",
            "ls: cannot access '/content/tomato_data/tomato_split/val/Tomato___Spider_mites': No such file or directory\n",
            "ls: cannot access 'Two-spotted_spider_mite': No such file or directory\n",
            "/content/tomato_data/tomato_split/val/Tomato___Spider_mites Two-spotted_spider_mite: 0\n",
            "/content/tomato_data/tomato_split/val/Tomato___Tomato_Yellow_Leaf_Curl_Virus: 643\n",
            "/content/tomato_data/tomato_split/val/Tomato___Septoria_leaf_spot: 213\n",
            "/content/tomato_data/tomato_split/val/Tomato___Bacterial_spot: 255\n",
            "/content/tomato_data/tomato_split/val/Tomato___healthy: 191\n",
            "/content/tomato_data/tomato_split/val/Tomato___Leaf_Mold: 114\n",
            "/content/tomato_data/tomato_split/val/Tomato___Tomato_mosaic_virus: 45\n",
            "/content/tomato_data/tomato_split/train: 10\n",
            "/content/tomato_data/tomato_split/train/Tomato___Target_Spot: 786\n",
            "/content/tomato_data/tomato_split/train/Tomato___Early_blight: 560\n",
            "/content/tomato_data/tomato_split/train/Tomato___Late_blight: 1068\n",
            "ls: cannot access '/content/tomato_data/tomato_split/train/Tomato___Spider_mites': No such file or directory\n",
            "ls: cannot access 'Two-spotted_spider_mite': No such file or directory\n",
            "/content/tomato_data/tomato_split/train/Tomato___Spider_mites Two-spotted_spider_mite: 0\n",
            "/content/tomato_data/tomato_split/train/Tomato___Tomato_Yellow_Leaf_Curl_Virus: 3000\n",
            "/content/tomato_data/tomato_split/train/Tomato___Septoria_leaf_spot: 991\n",
            "/content/tomato_data/tomato_split/train/Tomato___Bacterial_spot: 1191\n",
            "/content/tomato_data/tomato_split/train/Tomato___healthy: 891\n",
            "/content/tomato_data/tomato_split/train/Tomato___Leaf_Mold: 532\n",
            "/content/tomato_data/tomato_split/train/Tomato___Tomato_mosaic_virus: 209\n"
          ]
        }
      ]
    },
    {
      "cell_type": "code",
      "source": [
        "import tensorflow as tf\n",
        "from tensorflow.keras.applications import ResNet50\n",
        "from tensorflow.keras.models import Model\n",
        "from tensorflow.keras.layers import Dense, GlobalAveragePooling2D, Dropout\n",
        "from tensorflow.keras.optimizers import Adam\n",
        "from tensorflow.keras.models import Sequential\n",
        "from tensorflow.keras.layers import Conv2D, MaxPooling2D, Flatten, Dense, Dropout\n",
        "from tensorflow.keras.preprocessing.image import ImageDataGenerator\n",
        "import matplotlib.pyplot as plt\n",
        "\n",
        "\n",
        "IMG_SIZE = (128,128)   # smaller for simple CNN\n",
        "BATCH_SIZE = 32\n",
        "\n",
        "train_datagen = ImageDataGenerator(rescale=1./255,\n",
        "                                   rotation_range=20,\n",
        "                                   zoom_range=0.2,\n",
        "                                   horizontal_flip=True)\n",
        "\n",
        "val_test_datagen = ImageDataGenerator(rescale=1./255)\n",
        "\n",
        "train_gen = train_datagen.flow_from_directory(\n",
        "    \"/content/tomato_data/tomato_split/train\",\n",
        "    target_size=IMG_SIZE,\n",
        "    batch_size=BATCH_SIZE,\n",
        "    class_mode='categorical'\n",
        ")\n",
        "\n",
        "val_gen = val_test_datagen.flow_from_directory(\n",
        "    \"/content/tomato_data/tomato_split/val\",\n",
        "    target_size=IMG_SIZE,\n",
        "    batch_size=BATCH_SIZE,\n",
        "    class_mode='categorical'\n",
        ")\n",
        "\n",
        "test_gen = val_test_datagen.flow_from_directory(\n",
        "    \"/content/tomato_data/tomato_split/test\",\n",
        "    target_size=IMG_SIZE,\n",
        "    batch_size=BATCH_SIZE,\n",
        "    class_mode='categorical',\n",
        "    shuffle=False\n",
        ")\n",
        "\n",
        "num_classes = train_gen.num_classes\n"
      ],
      "metadata": {
        "colab": {
          "base_uri": "https://localhost:8080/"
        },
        "id": "C2owEGR26zSH",
        "outputId": "d20f09ce-157d-4467-af6b-ee7ef52b52b3"
      },
      "execution_count": 22,
      "outputs": [
        {
          "output_type": "stream",
          "name": "stdout",
          "text": [
            "Found 10166 images belonging to 10 classes.\n",
            "Found 2179 images belonging to 10 classes.\n",
            "Found 2184 images belonging to 10 classes.\n"
          ]
        }
      ]
    },
    {
      "cell_type": "code",
      "source": [
        "model = Sequential([\n",
        "    Conv2D(32, (3,3), activation='relu', input_shape=(128,128,3)),\n",
        "    MaxPooling2D((2,2)),\n",
        "\n",
        "    Conv2D(64, (3,3), activation='relu'),\n",
        "    MaxPooling2D((2,2)),\n",
        "\n",
        "    Conv2D(128, (3,3), activation='relu'),\n",
        "    MaxPooling2D((2,2)),\n",
        "\n",
        "    Flatten(),\n",
        "    Dense(128, activation='relu'),\n",
        "    Dropout(0.5),\n",
        "    Dense(num_classes, activation='softmax')\n",
        "])\n",
        "\n",
        "model.compile(optimizer='adam',\n",
        "              loss='categorical_crossentropy',\n",
        "              metrics=['accuracy'])\n",
        "\n",
        "model.summary()\n"
      ],
      "metadata": {
        "id": "t32twHgI7LWp",
        "outputId": "1046a9bc-e8a7-408c-aff6-3e795bbd0ed2",
        "colab": {
          "base_uri": "https://localhost:8080/",
          "height": 524
        },
        "collapsed": true
      },
      "execution_count": 23,
      "outputs": [
        {
          "output_type": "stream",
          "name": "stderr",
          "text": [
            "/usr/local/lib/python3.12/dist-packages/keras/src/layers/convolutional/base_conv.py:113: UserWarning: Do not pass an `input_shape`/`input_dim` argument to a layer. When using Sequential models, prefer using an `Input(shape)` object as the first layer in the model instead.\n",
            "  super().__init__(activity_regularizer=activity_regularizer, **kwargs)\n"
          ]
        },
        {
          "output_type": "display_data",
          "data": {
            "text/plain": [
              "\u001b[1mModel: \"sequential\"\u001b[0m\n"
            ],
            "text/html": [
              "<pre style=\"white-space:pre;overflow-x:auto;line-height:normal;font-family:Menlo,'DejaVu Sans Mono',consolas,'Courier New',monospace\"><span style=\"font-weight: bold\">Model: \"sequential\"</span>\n",
              "</pre>\n"
            ]
          },
          "metadata": {}
        },
        {
          "output_type": "display_data",
          "data": {
            "text/plain": [
              "┏━━━━━━━━━━━━━━━━━━━━━━━━━━━━━━━━━┳━━━━━━━━━━━━━━━━━━━━━━━━┳━━━━━━━━━━━━━━━┓\n",
              "┃\u001b[1m \u001b[0m\u001b[1mLayer (type)                   \u001b[0m\u001b[1m \u001b[0m┃\u001b[1m \u001b[0m\u001b[1mOutput Shape          \u001b[0m\u001b[1m \u001b[0m┃\u001b[1m \u001b[0m\u001b[1m      Param #\u001b[0m\u001b[1m \u001b[0m┃\n",
              "┡━━━━━━━━━━━━━━━━━━━━━━━━━━━━━━━━━╇━━━━━━━━━━━━━━━━━━━━━━━━╇━━━━━━━━━━━━━━━┩\n",
              "│ conv2d (\u001b[38;5;33mConv2D\u001b[0m)                 │ (\u001b[38;5;45mNone\u001b[0m, \u001b[38;5;34m126\u001b[0m, \u001b[38;5;34m126\u001b[0m, \u001b[38;5;34m32\u001b[0m)   │           \u001b[38;5;34m896\u001b[0m │\n",
              "├─────────────────────────────────┼────────────────────────┼───────────────┤\n",
              "│ max_pooling2d (\u001b[38;5;33mMaxPooling2D\u001b[0m)    │ (\u001b[38;5;45mNone\u001b[0m, \u001b[38;5;34m63\u001b[0m, \u001b[38;5;34m63\u001b[0m, \u001b[38;5;34m32\u001b[0m)     │             \u001b[38;5;34m0\u001b[0m │\n",
              "├─────────────────────────────────┼────────────────────────┼───────────────┤\n",
              "│ conv2d_1 (\u001b[38;5;33mConv2D\u001b[0m)               │ (\u001b[38;5;45mNone\u001b[0m, \u001b[38;5;34m61\u001b[0m, \u001b[38;5;34m61\u001b[0m, \u001b[38;5;34m64\u001b[0m)     │        \u001b[38;5;34m18,496\u001b[0m │\n",
              "├─────────────────────────────────┼────────────────────────┼───────────────┤\n",
              "│ max_pooling2d_1 (\u001b[38;5;33mMaxPooling2D\u001b[0m)  │ (\u001b[38;5;45mNone\u001b[0m, \u001b[38;5;34m30\u001b[0m, \u001b[38;5;34m30\u001b[0m, \u001b[38;5;34m64\u001b[0m)     │             \u001b[38;5;34m0\u001b[0m │\n",
              "├─────────────────────────────────┼────────────────────────┼───────────────┤\n",
              "│ conv2d_2 (\u001b[38;5;33mConv2D\u001b[0m)               │ (\u001b[38;5;45mNone\u001b[0m, \u001b[38;5;34m28\u001b[0m, \u001b[38;5;34m28\u001b[0m, \u001b[38;5;34m128\u001b[0m)    │        \u001b[38;5;34m73,856\u001b[0m │\n",
              "├─────────────────────────────────┼────────────────────────┼───────────────┤\n",
              "│ max_pooling2d_2 (\u001b[38;5;33mMaxPooling2D\u001b[0m)  │ (\u001b[38;5;45mNone\u001b[0m, \u001b[38;5;34m14\u001b[0m, \u001b[38;5;34m14\u001b[0m, \u001b[38;5;34m128\u001b[0m)    │             \u001b[38;5;34m0\u001b[0m │\n",
              "├─────────────────────────────────┼────────────────────────┼───────────────┤\n",
              "│ flatten (\u001b[38;5;33mFlatten\u001b[0m)               │ (\u001b[38;5;45mNone\u001b[0m, \u001b[38;5;34m25088\u001b[0m)          │             \u001b[38;5;34m0\u001b[0m │\n",
              "├─────────────────────────────────┼────────────────────────┼───────────────┤\n",
              "│ dense_2 (\u001b[38;5;33mDense\u001b[0m)                 │ (\u001b[38;5;45mNone\u001b[0m, \u001b[38;5;34m128\u001b[0m)            │     \u001b[38;5;34m3,211,392\u001b[0m │\n",
              "├─────────────────────────────────┼────────────────────────┼───────────────┤\n",
              "│ dropout_2 (\u001b[38;5;33mDropout\u001b[0m)             │ (\u001b[38;5;45mNone\u001b[0m, \u001b[38;5;34m128\u001b[0m)            │             \u001b[38;5;34m0\u001b[0m │\n",
              "├─────────────────────────────────┼────────────────────────┼───────────────┤\n",
              "│ dense_3 (\u001b[38;5;33mDense\u001b[0m)                 │ (\u001b[38;5;45mNone\u001b[0m, \u001b[38;5;34m10\u001b[0m)             │         \u001b[38;5;34m1,290\u001b[0m │\n",
              "└─────────────────────────────────┴────────────────────────┴───────────────┘\n"
            ],
            "text/html": [
              "<pre style=\"white-space:pre;overflow-x:auto;line-height:normal;font-family:Menlo,'DejaVu Sans Mono',consolas,'Courier New',monospace\">┏━━━━━━━━━━━━━━━━━━━━━━━━━━━━━━━━━┳━━━━━━━━━━━━━━━━━━━━━━━━┳━━━━━━━━━━━━━━━┓\n",
              "┃<span style=\"font-weight: bold\"> Layer (type)                    </span>┃<span style=\"font-weight: bold\"> Output Shape           </span>┃<span style=\"font-weight: bold\">       Param # </span>┃\n",
              "┡━━━━━━━━━━━━━━━━━━━━━━━━━━━━━━━━━╇━━━━━━━━━━━━━━━━━━━━━━━━╇━━━━━━━━━━━━━━━┩\n",
              "│ conv2d (<span style=\"color: #0087ff; text-decoration-color: #0087ff\">Conv2D</span>)                 │ (<span style=\"color: #00d7ff; text-decoration-color: #00d7ff\">None</span>, <span style=\"color: #00af00; text-decoration-color: #00af00\">126</span>, <span style=\"color: #00af00; text-decoration-color: #00af00\">126</span>, <span style=\"color: #00af00; text-decoration-color: #00af00\">32</span>)   │           <span style=\"color: #00af00; text-decoration-color: #00af00\">896</span> │\n",
              "├─────────────────────────────────┼────────────────────────┼───────────────┤\n",
              "│ max_pooling2d (<span style=\"color: #0087ff; text-decoration-color: #0087ff\">MaxPooling2D</span>)    │ (<span style=\"color: #00d7ff; text-decoration-color: #00d7ff\">None</span>, <span style=\"color: #00af00; text-decoration-color: #00af00\">63</span>, <span style=\"color: #00af00; text-decoration-color: #00af00\">63</span>, <span style=\"color: #00af00; text-decoration-color: #00af00\">32</span>)     │             <span style=\"color: #00af00; text-decoration-color: #00af00\">0</span> │\n",
              "├─────────────────────────────────┼────────────────────────┼───────────────┤\n",
              "│ conv2d_1 (<span style=\"color: #0087ff; text-decoration-color: #0087ff\">Conv2D</span>)               │ (<span style=\"color: #00d7ff; text-decoration-color: #00d7ff\">None</span>, <span style=\"color: #00af00; text-decoration-color: #00af00\">61</span>, <span style=\"color: #00af00; text-decoration-color: #00af00\">61</span>, <span style=\"color: #00af00; text-decoration-color: #00af00\">64</span>)     │        <span style=\"color: #00af00; text-decoration-color: #00af00\">18,496</span> │\n",
              "├─────────────────────────────────┼────────────────────────┼───────────────┤\n",
              "│ max_pooling2d_1 (<span style=\"color: #0087ff; text-decoration-color: #0087ff\">MaxPooling2D</span>)  │ (<span style=\"color: #00d7ff; text-decoration-color: #00d7ff\">None</span>, <span style=\"color: #00af00; text-decoration-color: #00af00\">30</span>, <span style=\"color: #00af00; text-decoration-color: #00af00\">30</span>, <span style=\"color: #00af00; text-decoration-color: #00af00\">64</span>)     │             <span style=\"color: #00af00; text-decoration-color: #00af00\">0</span> │\n",
              "├─────────────────────────────────┼────────────────────────┼───────────────┤\n",
              "│ conv2d_2 (<span style=\"color: #0087ff; text-decoration-color: #0087ff\">Conv2D</span>)               │ (<span style=\"color: #00d7ff; text-decoration-color: #00d7ff\">None</span>, <span style=\"color: #00af00; text-decoration-color: #00af00\">28</span>, <span style=\"color: #00af00; text-decoration-color: #00af00\">28</span>, <span style=\"color: #00af00; text-decoration-color: #00af00\">128</span>)    │        <span style=\"color: #00af00; text-decoration-color: #00af00\">73,856</span> │\n",
              "├─────────────────────────────────┼────────────────────────┼───────────────┤\n",
              "│ max_pooling2d_2 (<span style=\"color: #0087ff; text-decoration-color: #0087ff\">MaxPooling2D</span>)  │ (<span style=\"color: #00d7ff; text-decoration-color: #00d7ff\">None</span>, <span style=\"color: #00af00; text-decoration-color: #00af00\">14</span>, <span style=\"color: #00af00; text-decoration-color: #00af00\">14</span>, <span style=\"color: #00af00; text-decoration-color: #00af00\">128</span>)    │             <span style=\"color: #00af00; text-decoration-color: #00af00\">0</span> │\n",
              "├─────────────────────────────────┼────────────────────────┼───────────────┤\n",
              "│ flatten (<span style=\"color: #0087ff; text-decoration-color: #0087ff\">Flatten</span>)               │ (<span style=\"color: #00d7ff; text-decoration-color: #00d7ff\">None</span>, <span style=\"color: #00af00; text-decoration-color: #00af00\">25088</span>)          │             <span style=\"color: #00af00; text-decoration-color: #00af00\">0</span> │\n",
              "├─────────────────────────────────┼────────────────────────┼───────────────┤\n",
              "│ dense_2 (<span style=\"color: #0087ff; text-decoration-color: #0087ff\">Dense</span>)                 │ (<span style=\"color: #00d7ff; text-decoration-color: #00d7ff\">None</span>, <span style=\"color: #00af00; text-decoration-color: #00af00\">128</span>)            │     <span style=\"color: #00af00; text-decoration-color: #00af00\">3,211,392</span> │\n",
              "├─────────────────────────────────┼────────────────────────┼───────────────┤\n",
              "│ dropout_2 (<span style=\"color: #0087ff; text-decoration-color: #0087ff\">Dropout</span>)             │ (<span style=\"color: #00d7ff; text-decoration-color: #00d7ff\">None</span>, <span style=\"color: #00af00; text-decoration-color: #00af00\">128</span>)            │             <span style=\"color: #00af00; text-decoration-color: #00af00\">0</span> │\n",
              "├─────────────────────────────────┼────────────────────────┼───────────────┤\n",
              "│ dense_3 (<span style=\"color: #0087ff; text-decoration-color: #0087ff\">Dense</span>)                 │ (<span style=\"color: #00d7ff; text-decoration-color: #00d7ff\">None</span>, <span style=\"color: #00af00; text-decoration-color: #00af00\">10</span>)             │         <span style=\"color: #00af00; text-decoration-color: #00af00\">1,290</span> │\n",
              "└─────────────────────────────────┴────────────────────────┴───────────────┘\n",
              "</pre>\n"
            ]
          },
          "metadata": {}
        },
        {
          "output_type": "display_data",
          "data": {
            "text/plain": [
              "\u001b[1m Total params: \u001b[0m\u001b[38;5;34m3,305,930\u001b[0m (12.61 MB)\n"
            ],
            "text/html": [
              "<pre style=\"white-space:pre;overflow-x:auto;line-height:normal;font-family:Menlo,'DejaVu Sans Mono',consolas,'Courier New',monospace\"><span style=\"font-weight: bold\"> Total params: </span><span style=\"color: #00af00; text-decoration-color: #00af00\">3,305,930</span> (12.61 MB)\n",
              "</pre>\n"
            ]
          },
          "metadata": {}
        },
        {
          "output_type": "display_data",
          "data": {
            "text/plain": [
              "\u001b[1m Trainable params: \u001b[0m\u001b[38;5;34m3,305,930\u001b[0m (12.61 MB)\n"
            ],
            "text/html": [
              "<pre style=\"white-space:pre;overflow-x:auto;line-height:normal;font-family:Menlo,'DejaVu Sans Mono',consolas,'Courier New',monospace\"><span style=\"font-weight: bold\"> Trainable params: </span><span style=\"color: #00af00; text-decoration-color: #00af00\">3,305,930</span> (12.61 MB)\n",
              "</pre>\n"
            ]
          },
          "metadata": {}
        },
        {
          "output_type": "display_data",
          "data": {
            "text/plain": [
              "\u001b[1m Non-trainable params: \u001b[0m\u001b[38;5;34m0\u001b[0m (0.00 B)\n"
            ],
            "text/html": [
              "<pre style=\"white-space:pre;overflow-x:auto;line-height:normal;font-family:Menlo,'DejaVu Sans Mono',consolas,'Courier New',monospace\"><span style=\"font-weight: bold\"> Non-trainable params: </span><span style=\"color: #00af00; text-decoration-color: #00af00\">0</span> (0.00 B)\n",
              "</pre>\n"
            ]
          },
          "metadata": {}
        }
      ]
    },
    {
      "cell_type": "code",
      "source": [
        "EPOCHS = 20\n",
        "\n",
        "history = model.fit(\n",
        "    train_gen,\n",
        "    validation_data=val_gen,\n",
        "    epochs=EPOCHS\n",
        ")"
      ],
      "metadata": {
        "id": "VK0fVONI7QmA",
        "colab": {
          "base_uri": "https://localhost:8080/"
        },
        "outputId": "5113ed55-8fb1-4a95-9cd6-dc4c0af2ecd0"
      },
      "execution_count": 24,
      "outputs": [
        {
          "output_type": "stream",
          "name": "stdout",
          "text": [
            "Epoch 1/20\n",
            "\u001b[1m318/318\u001b[0m \u001b[32m━━━━━━━━━━━━━━━━━━━━\u001b[0m\u001b[37m\u001b[0m \u001b[1m59s\u001b[0m 171ms/step - accuracy: 0.3988 - loss: 1.7814 - val_accuracy: 0.6035 - val_loss: 1.1692\n",
            "Epoch 2/20\n",
            "\u001b[1m318/318\u001b[0m \u001b[32m━━━━━━━━━━━━━━━━━━━━\u001b[0m\u001b[37m\u001b[0m \u001b[1m49s\u001b[0m 155ms/step - accuracy: 0.6564 - loss: 1.0181 - val_accuracy: 0.7715 - val_loss: 0.6526\n",
            "Epoch 3/20\n",
            "\u001b[1m318/318\u001b[0m \u001b[32m━━━━━━━━━━━━━━━━━━━━\u001b[0m\u001b[37m\u001b[0m \u001b[1m50s\u001b[0m 157ms/step - accuracy: 0.7290 - loss: 0.8093 - val_accuracy: 0.8206 - val_loss: 0.5216\n",
            "Epoch 4/20\n",
            "\u001b[1m318/318\u001b[0m \u001b[32m━━━━━━━━━━━━━━━━━━━━\u001b[0m\u001b[37m\u001b[0m \u001b[1m51s\u001b[0m 160ms/step - accuracy: 0.7606 - loss: 0.7156 - val_accuracy: 0.7237 - val_loss: 0.8732\n",
            "Epoch 5/20\n",
            "\u001b[1m318/318\u001b[0m \u001b[32m━━━━━━━━━━━━━━━━━━━━\u001b[0m\u001b[37m\u001b[0m \u001b[1m50s\u001b[0m 156ms/step - accuracy: 0.7895 - loss: 0.6229 - val_accuracy: 0.8660 - val_loss: 0.3752\n",
            "Epoch 6/20\n",
            "\u001b[1m318/318\u001b[0m \u001b[32m━━━━━━━━━━━━━━━━━━━━\u001b[0m\u001b[37m\u001b[0m \u001b[1m51s\u001b[0m 162ms/step - accuracy: 0.8153 - loss: 0.5333 - val_accuracy: 0.8059 - val_loss: 0.5469\n",
            "Epoch 7/20\n",
            "\u001b[1m318/318\u001b[0m \u001b[32m━━━━━━━━━━━━━━━━━━━━\u001b[0m\u001b[37m\u001b[0m \u001b[1m51s\u001b[0m 161ms/step - accuracy: 0.8244 - loss: 0.4884 - val_accuracy: 0.7361 - val_loss: 0.7579\n",
            "Epoch 8/20\n",
            "\u001b[1m318/318\u001b[0m \u001b[32m━━━━━━━━━━━━━━━━━━━━\u001b[0m\u001b[37m\u001b[0m \u001b[1m51s\u001b[0m 161ms/step - accuracy: 0.8433 - loss: 0.4517 - val_accuracy: 0.8330 - val_loss: 0.5026\n",
            "Epoch 9/20\n",
            "\u001b[1m318/318\u001b[0m \u001b[32m━━━━━━━━━━━━━━━━━━━━\u001b[0m\u001b[37m\u001b[0m \u001b[1m52s\u001b[0m 162ms/step - accuracy: 0.8501 - loss: 0.4173 - val_accuracy: 0.8743 - val_loss: 0.3492\n",
            "Epoch 10/20\n",
            "\u001b[1m318/318\u001b[0m \u001b[32m━━━━━━━━━━━━━━━━━━━━\u001b[0m\u001b[37m\u001b[0m \u001b[1m51s\u001b[0m 159ms/step - accuracy: 0.8605 - loss: 0.4104 - val_accuracy: 0.8830 - val_loss: 0.3106\n",
            "Epoch 11/20\n",
            "\u001b[1m318/318\u001b[0m \u001b[32m━━━━━━━━━━━━━━━━━━━━\u001b[0m\u001b[37m\u001b[0m \u001b[1m50s\u001b[0m 157ms/step - accuracy: 0.8747 - loss: 0.3721 - val_accuracy: 0.9229 - val_loss: 0.2151\n",
            "Epoch 12/20\n",
            "\u001b[1m318/318\u001b[0m \u001b[32m━━━━━━━━━━━━━━━━━━━━\u001b[0m\u001b[37m\u001b[0m \u001b[1m51s\u001b[0m 162ms/step - accuracy: 0.8823 - loss: 0.3469 - val_accuracy: 0.9252 - val_loss: 0.2207\n",
            "Epoch 13/20\n",
            "\u001b[1m318/318\u001b[0m \u001b[32m━━━━━━━━━━━━━━━━━━━━\u001b[0m\u001b[37m\u001b[0m \u001b[1m51s\u001b[0m 161ms/step - accuracy: 0.8836 - loss: 0.3372 - val_accuracy: 0.9128 - val_loss: 0.2597\n",
            "Epoch 14/20\n",
            "\u001b[1m318/318\u001b[0m \u001b[32m━━━━━━━━━━━━━━━━━━━━\u001b[0m\u001b[37m\u001b[0m \u001b[1m51s\u001b[0m 161ms/step - accuracy: 0.8882 - loss: 0.3172 - val_accuracy: 0.9312 - val_loss: 0.1908\n",
            "Epoch 15/20\n",
            "\u001b[1m318/318\u001b[0m \u001b[32m━━━━━━━━━━━━━━━━━━━━\u001b[0m\u001b[37m\u001b[0m \u001b[1m50s\u001b[0m 158ms/step - accuracy: 0.8995 - loss: 0.2888 - val_accuracy: 0.8866 - val_loss: 0.3023\n",
            "Epoch 16/20\n",
            "\u001b[1m318/318\u001b[0m \u001b[32m━━━━━━━━━━━━━━━━━━━━\u001b[0m\u001b[37m\u001b[0m \u001b[1m50s\u001b[0m 157ms/step - accuracy: 0.8980 - loss: 0.2884 - val_accuracy: 0.9183 - val_loss: 0.2399\n",
            "Epoch 17/20\n",
            "\u001b[1m318/318\u001b[0m \u001b[32m━━━━━━━━━━━━━━━━━━━━\u001b[0m\u001b[37m\u001b[0m \u001b[1m51s\u001b[0m 159ms/step - accuracy: 0.9030 - loss: 0.2757 - val_accuracy: 0.9101 - val_loss: 0.2517\n",
            "Epoch 18/20\n",
            "\u001b[1m318/318\u001b[0m \u001b[32m━━━━━━━━━━━━━━━━━━━━\u001b[0m\u001b[37m\u001b[0m \u001b[1m51s\u001b[0m 159ms/step - accuracy: 0.9027 - loss: 0.2784 - val_accuracy: 0.9156 - val_loss: 0.2497\n",
            "Epoch 19/20\n",
            "\u001b[1m318/318\u001b[0m \u001b[32m━━━━━━━━━━━━━━━━━━━━\u001b[0m\u001b[37m\u001b[0m \u001b[1m51s\u001b[0m 159ms/step - accuracy: 0.9177 - loss: 0.2433 - val_accuracy: 0.8949 - val_loss: 0.3148\n",
            "Epoch 20/20\n",
            "\u001b[1m318/318\u001b[0m \u001b[32m━━━━━━━━━━━━━━━━━━━━\u001b[0m\u001b[37m\u001b[0m \u001b[1m50s\u001b[0m 157ms/step - accuracy: 0.9162 - loss: 0.2450 - val_accuracy: 0.9348 - val_loss: 0.1825\n"
          ]
        }
      ]
    },
    {
      "cell_type": "code",
      "source": [
        "test_loss, test_acc = model.evaluate(test_gen)\n",
        "print(\"Simple CNN Test Accuracy:\", test_acc)"
      ],
      "metadata": {
        "colab": {
          "base_uri": "https://localhost:8080/"
        },
        "id": "gIP-zvg5PNwR",
        "outputId": "754920a0-a9ba-4ac3-ed1f-07badf7dfb99"
      },
      "execution_count": 25,
      "outputs": [
        {
          "output_type": "stream",
          "name": "stdout",
          "text": [
            "\u001b[1m69/69\u001b[0m \u001b[32m━━━━━━━━━━━━━━━━━━━━\u001b[0m\u001b[37m\u001b[0m \u001b[1m3s\u001b[0m 41ms/step - accuracy: 0.8956 - loss: 0.3105\n",
            "Simple CNN Test Accuracy: 0.930402934551239\n"
          ]
        }
      ]
    },
    {
      "cell_type": "code",
      "source": [
        "plt.plot(history.history['accuracy'], label='Train Acc')\n",
        "plt.plot(history.history['val_accuracy'], label='Val Acc')\n",
        "plt.xlabel('Epochs')\n",
        "plt.ylabel('Accuracy')\n",
        "plt.legend()\n",
        "plt.show()"
      ],
      "metadata": {
        "id": "6LukTbC4PRUY",
        "outputId": "cd966ec7-3d07-434a-a7aa-cd1963416508",
        "colab": {
          "base_uri": "https://localhost:8080/",
          "height": 449
        }
      },
      "execution_count": 27,
      "outputs": [
        {
          "output_type": "display_data",
          "data": {
            "text/plain": [
              "<Figure size 640x480 with 1 Axes>"
            ],
            "image/png": "[encoded data removed]"
          },
          "metadata": {}
        }
      ]
    }
  ]
}